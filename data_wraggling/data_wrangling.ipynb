{
 "cells": [
  {
   "cell_type": "code",
   "execution_count": 1,
   "metadata": {},
   "outputs": [],
   "source": [
    "import pandas as pd\n",
    "import numpy as np"
   ]
  },
  {
   "cell_type": "code",
   "execution_count": 2,
   "metadata": {},
   "outputs": [
    {
     "name": "stdout",
     "output_type": "stream",
     "text": [
      "   household_id  person  age    income  female\n",
      "0            37       1   20   10000.0   False\n",
      "1            37       2   19    5300.0    True\n",
      "2            37       3   19    4700.0   False\n",
      "3           241       1   50   90000.0    True\n",
      "4           242       1   29   20000.0   False\n",
      "5        155789       1   58    5000.0   False\n",
      "6        155789       2   61  110000.0    True\n",
      "7        155789       3   15       NaN   False\n"
     ]
    }
   ],
   "source": [
    "# Create a DataFrame\n",
    "data = {\n",
    "    'household_id': [37, 37, 37, 241, 242, 155789, 155789, 155789],\n",
    "    'person': [1, 2, 3, 1, 1, 1, 2, 3],\n",
    "    'age': [20, 19, 19, 50, 29, 58, 61, 15],\n",
    "    'income': [10000, 5300, 4700, 90000, 20000, 5000, 110000, np.nan],\n",
    "    'female': [False, True, False, True, False, False, True, False]\n",
    "}\n",
    "\n",
    "#Turn Dictionary into DataFrame\n",
    "df = pd.DataFrame(data)\n",
    "\n",
    "# Show\n",
    "print(df)"
   ]
  },
  {
   "cell_type": "code",
   "execution_count": 3,
   "metadata": {},
   "outputs": [],
   "source": [
    "household_df = df.groupby('household_id').agg(\n",
    "    size_hh=('person', 'count'),  \n",
    "    mean_age=('age', 'mean'),     \n",
    "    min_age=('age', 'min'),       \n",
    "    max_age=('age', 'max'),       \n",
    "    nr_children=('age', lambda x: (x < 18).sum()),\n",
    "    nr_female=('female', 'sum'), \n",
    "    mean_income=('income', 'mean'),\n",
    "    total_income=('income', 'sum')\n",
    ").reset_index()"
   ]
  },
  {
   "cell_type": "code",
   "execution_count": null,
   "metadata": {},
   "outputs": [],
   "source": []
  }
 ],
 "metadata": {
  "kernelspec": {
   "display_name": "base",
   "language": "python",
   "name": "python3"
  },
  "language_info": {
   "codemirror_mode": {
    "name": "ipython",
    "version": 3
   },
   "file_extension": ".py",
   "mimetype": "text/x-python",
   "name": "python",
   "nbconvert_exporter": "python",
   "pygments_lexer": "ipython3",
   "version": "3.9.13"
  }
 },
 "nbformat": 4,
 "nbformat_minor": 2
}
